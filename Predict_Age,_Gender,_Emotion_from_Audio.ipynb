{
  "cells": [
    {
      "cell_type": "code",
      "execution_count": null,
      "metadata": {
        "colab": {
          "background_save": true
        },
        "id": "NqF7Rg9sMIul",
        "outputId": "01281e64-9a88-41cc-9b82-1b4c35f2c21d"
      },
      "outputs": [
        {
          "name": "stdout",
          "output_type": "stream",
          "text": [
            "Mounted at /content/drive\n"
          ]
        }
      ],
      "source": [
        "from google.colab import drive\n",
        "drive.mount('/content/drive')"
      ]
    },
    {
      "cell_type": "markdown",
      "metadata": {
        "id": "uHvhI_nGPgq6"
      },
      "source": [
        "RAVDESS dataset\n",
        "RAVDESS is one of the more common dataset used for this excercise by others. It's well liked because of its quality of speakers, recording and it has 24 actors of different genders. And there's more! You can get it in song format as well. There's something for everyone and their research project. So for convenience, here's the filename identifiers as per the official RAVDESS website:\n",
        "\n",
        "- Modality (01 = full-AV, 02 = video-only, 03 = audio-only).\n",
        "- Vocal channel (01 = speech, 02 = song).\n",
        "- Emotion (01 = neutral, 02 = calm, 03 = happy, 04 = sad, 05 = angry, 06 = - fearful, 07 = disgust, 08 = surprised).\n",
        "- Emotional intensity (01 = normal, 02 = strong). NOTE: There is no strong intensity for the 'neutral' emotion.\n",
        "- Statement (01 = \"Kids are talking by the door\", 02 = \"Dogs are sitting by the door\").\n",
        "- Repetition (01 = 1st repetition, 02 = 2nd repetition).\n",
        "- Actor (01 to 24. Odd numbered actors are male, even numbered actors are female).\n",
        "\n",
        "So, here's an example of an audio filename. 02-01-06-01-02-01-12.mp4\n",
        "\n",
        "This means the meta data for the audio file is:\n",
        "\n",
        "- Video-only (02)\n",
        "- Speech (01)\n",
        "- Fearful (06)\n",
        "- Normal intensity (01)\n",
        "- Statement \"dogs\" (02)\n",
        "- 1st Repetition (01)\n",
        "- 12th Actor (12) - Female (as the actor ID number is even)\n",
        "\n",
        "At my early beginings embarking on this journey, I learnt through the hard way that male and female speakers have to be trained seperately or the model will struggle to get a good accuracy. From reading a few blogs and articles, it seems female has a higher pitch that male. So if we don't tag the gender label to the audio file, it won't be able to detect anger or fear if it was a male speaker. It will just get bucketed into neutral\n",
        "\n",
        "Lets specifically model the 2 speakers seperately. Note that there's a 'calm' emotion and a 'neutral' emotion as seperate. I don't really know the difference but for now, I'll just combined them into the same category."
      ]
    },
    {
      "cell_type": "markdown",
      "metadata": {
        "id": "bqDpBWhHhZEt"
      },
      "source": [
        "We are going to need some packages and libraries:\n",
        "\n",
        "1)Numpy-for linear algebraic operations.\n",
        "\n",
        "2)Scikit-learn-includes many statistical models.\n",
        "\n",
        "3)Librosa-to extracts audio features.\n",
        "\n",
        "4)Soundfile-to read and write sound files a well as to represent audio data as NumPy array."
      ]
    },
    {
      "cell_type": "markdown",
      "metadata": {
        "id": "bgAB7coyiBZE"
      },
      "source": [
        "Here, we are using Python language for programming. We are using the following libraries.\n",
        "\n",
        "- Soundfile: Soundfile is a Python package to read the audio file of different formats, for example, WAV, FLAC, OGG, MAT files.\n",
        "- Librosa:  Librosa is a Python package for audio and music analysis, for example, feature extraction and manipulation, segmentation, Visualization, and display.\n",
        "- Os: Os is a Python package for using an operating system, for example, obtain the base name of a file, open the file in different modes like reading, write, append\n",
        "- Glob: Glob is a Python package for finding path or pathnames of the file, the file having some specific pattern, For example, all files of.WAV extension.\n",
        "- Pickle:  Pickle is a Python package for implements binary protocol. For example, serializing and de-serializing Python object structure.\n",
        "- Numpy: Numpy is a Python package for scientific calculation, for example performing different operations on matrix.\n",
        "- Sklearn: Sklearn is a Python package for performing different machine learning operations, for example predicting the unknown future values."
      ]
    },
    {
      "cell_type": "code",
      "execution_count": null,
      "metadata": {
        "id": "TmQSQY2qTmQc"
      },
      "outputs": [],
      "source": [
        "#Import All Important Libraries\n",
        "# librosa is a Python library for analyzing audio and music. It can be used to extract the data from the audio files \n",
        "import librosa\n",
        "import soundfile\n",
        "import os, glob, pickle\n",
        "import numpy as np\n",
        "import pandas as pd\n",
        "import seaborn as sns\n",
        "import matplotlib.pyplot as plt\n",
        "%matplotlib inline\n",
        "\n",
        "from sklearn.model_selection import train_test_split\n",
        "from sklearn.preprocessing import StandardScaler, LabelEncoder\n",
        "from sklearn.metrics import accuracy_score, confusion_matrix, classification_report\n",
        "\n",
        "!pip install pydub\n",
        "from pydub import AudioSegment\n",
        "\n",
        "import tensorflow as tf\n",
        "from tensorflow.keras.models import Sequential\n",
        "from tensorflow.keras.layers import Activation, Dense, BatchNormalization, Dropout\n",
        "from tensorflow.keras import optimizers, callbacks"
      ]
    },
    {
      "cell_type": "code",
      "execution_count": null,
      "metadata": {
        "id": "hQQccNa9Q87c"
      },
      "outputs": [],
      "source": [
        "RAV = '/content/drive/MyDrive/Colab Notebooks/DATASETS/RAVDESS Dataset/'"
      ]
    },
    {
      "cell_type": "code",
      "execution_count": null,
      "metadata": {
        "id": "pt-_1yTvMR3C"
      },
      "outputs": [],
      "source": [
        "import os, glob\n",
        "\n",
        "dir_list = os.listdir(RAV)\n",
        "dir_list.sort()"
      ]
    },
    {
      "cell_type": "code",
      "execution_count": null,
      "metadata": {
        "id": "R9sXqKGiStPt"
      },
      "outputs": [],
      "source": [
        "def extract_feature(file_name, mfcc, chroma, mel):\n",
        "  with soundfile.SoundFile(file_name) as sound_file:\n",
        "    X = sound_file.read(dtype=\"float32\")\n",
        "    sample_rate=sound_file.samplerate\n",
        "    if chroma:\n",
        "      stft=np.abs(librosa.stft(X))\n",
        "    result=np.array([])\n",
        "    if mfcc:\n",
        "      mfccs=np.mean(librosa.feature.mfcc(y=X, sr=sample_rate, n_mfcc=40).T, axis=0)\n",
        "      result=np.hstack((result, mfccs))\n",
        "    if chroma:\n",
        "      chroma=np.mean(librosa.feature.chroma_stft(S=stft, sr=sample_rate).T,axis=0)\n",
        "      result=np.hstack((result, chroma))\n",
        "    if mel:\n",
        "      mel=np.mean(librosa.feature.melspectrogram(X, sr=sample_rate).T,axis=0)\n",
        "      result=np.hstack((result, mel))\n",
        "  return result"
      ]
    },
    {
      "cell_type": "code",
      "execution_count": null,
      "metadata": {
        "colab": {
          "background_save": true
        },
        "id": "3vWIT_8sZboZ"
      },
      "outputs": [],
      "source": [
        "for folder in glob.glob(RAV+'/Actor_*'):\n",
        "    for file in glob.glob(folder + '/*.wav'):\n",
        "      sound = AudioSegment.from_wav(file) # Import an audio file\n",
        "      sound = sound.set_channels(1)  ## This sets it to mono\n",
        "      sound.export(file, format=\"wav\")"
      ]
    },
    {
      "cell_type": "code",
      "execution_count": null,
      "metadata": {
        "colab": {
          "background_save": true
        },
        "id": "UcGWTox4NM4e"
      },
      "outputs": [],
      "source": [
        "emotions = []\n",
        "gender = []\n",
        "features = []\n",
        "\n",
        "for i in dir_list:\n",
        "    fname = os.listdir(RAV + i)\n",
        "    for f in fname:\n",
        "      part = f.split('.')[0].split('-')\n",
        "      emotions.append(int(part[2]))\n",
        "      temp = int(part[6])\n",
        "      if temp % 2 == 0:\n",
        "          temp = \"female\"\n",
        "      else:\n",
        "          temp = \"male\"\n",
        "      gender.append(temp)\n",
        "      features.append(extract_feature((RAV + i + '/' + f), mfcc = True, chroma = True, mel = True))"
      ]
    },
    {
      "cell_type": "code",
      "execution_count": null,
      "metadata": {
        "colab": {
          "background_save": true
        },
        "id": "qe_lc8wpRCS8"
      },
      "outputs": [],
      "source": [
        "RAV_df = pd.DataFrame(emotions)\n",
        "RAV_df = RAV_df.replace({1:'neutral', 2:'calm', 3:'happy', 4:'sad', 5:'angry', 6:'fear', 7:'disgust', 8:'surprise'})\n",
        "RAV_df = pd.concat([pd.DataFrame(gender),RAV_df],axis=1)\n",
        "RAV_df.columns = ['gender','emotion']\n",
        "RAV_df['labels'] =RAV_df.gender + '_' + RAV_df.emotion\n",
        "RAV_df_new = RAV_df.drop(['gender', 'emotion'], axis=1)\n",
        "RAV_df_new['labels'].value_counts()"
      ]
    },
    {
      "cell_type": "code",
      "execution_count": null,
      "metadata": {
        "colab": {
          "background_save": true
        },
        "id": "d6h3P2H2g8j7"
      },
      "outputs": [],
      "source": [
        "RAV_df"
      ]
    },
    {
      "cell_type": "code",
      "execution_count": null,
      "metadata": {
        "colab": {
          "background_save": true
        },
        "id": "H7dbiE-F6Uyf"
      },
      "outputs": [],
      "source": [
        "sns.countplot(RAV_df.emotion)\n",
        "plt.title('Emotion Count')\n",
        "plt.xlabel('Emotions')\n",
        "plt.ylabel('Count')\n",
        "plt.show();"
      ]
    },
    {
      "cell_type": "markdown",
      "metadata": {
        "id": "bIPSDNEkCggb"
      },
      "source": [
        "Conclusion\n",
        "\n",
        "...ok, to be fairly honest, I actual felt like that was a fearful tone at the start, up until the end. I had to play it 3 or 4 times to finally be convienced that it is indeed a happy sound. Looking at the wave plot between the 2 files, I notice the only real difference is the amplitute wherein this happy track has a higher amplituted at various points. But, could be coincidence, who knows at this stage.\n",
        "\n",
        "What I do know is that the audio quality is good and we need females in the dataset. If we don't include females, we'll end up with an AI that is bias towards / aagainst one gender, and its unethical. Unless there's a good reason, I'm not taking it out."
      ]
    },
    {
      "cell_type": "markdown",
      "metadata": {
        "id": "Ahk6EiJ8FSdi"
      },
      "source": [
        "### extracting useful features from audio for our classifier"
      ]
    },
    {
      "cell_type": "markdown",
      "metadata": {
        "id": "q14PWckEFfB9"
      },
      "source": [
        "Broadly speaking there are two category of features:\n",
        "\n",
        "- Time domain features\n",
        "  - These are simpler to extract and understand, like the energy of signal, zero crossing rate, maximum amplitude, minimum energy, etc.\n",
        "- Frequency based features\n",
        "  - are obtained by converting the time based signal into the frequency domain. Whilst they are harder to comprehend, it provides extra information that can be really handy such as pitch, rhythms, melody etc."
      ]
    },
    {
      "cell_type": "code",
      "execution_count": null,
      "metadata": {
        "colab": {
          "background_save": true
        },
        "id": "J_-q55JTNr1F"
      },
      "outputs": [],
      "source": [
        "RAV_df = pd.concat([RAV_df, pd.DataFrame(features)], axis=1)\n",
        "RAV_df"
      ]
    },
    {
      "cell_type": "code",
      "execution_count": null,
      "metadata": {
        "colab": {
          "background_save": true
        },
        "id": "mQXNh_TKOtk6"
      },
      "outputs": [],
      "source": [
        "RAV_df.isnull().values.any()"
      ]
    },
    {
      "cell_type": "code",
      "execution_count": null,
      "metadata": {
        "colab": {
          "background_save": true
        },
        "id": "thMTIy_WvZ9o"
      },
      "outputs": [],
      "source": [
        "le = LabelEncoder()\n",
        "\n",
        "RAV_df['emotion']= le.fit_transform(RAV_df['emotion'])"
      ]
    },
    {
      "cell_type": "code",
      "execution_count": null,
      "metadata": {
        "colab": {
          "background_save": true
        },
        "id": "hCsYAFR4wJHD"
      },
      "outputs": [],
      "source": [
        "X = RAV_df.drop(['gender', 'emotion', 'labels'], axis = 1)\n",
        "y = RAV_df['emotion']"
      ]
    },
    {
      "cell_type": "code",
      "execution_count": null,
      "metadata": {
        "colab": {
          "background_save": true
        },
        "id": "I_xvXagDwdIO"
      },
      "outputs": [],
      "source": [
        "scaler = StandardScaler()\n",
        "\n",
        "X = scaler.fit_transform(X)"
      ]
    },
    {
      "cell_type": "code",
      "execution_count": null,
      "metadata": {
        "colab": {
          "background_save": true
        },
        "id": "s_FTtpHgQxIR"
      },
      "outputs": [],
      "source": [
        "X_train, X_test, y_train, y_test = train_test_split(X, y, test_size=0.2, shuffle=True, random_state=42)"
      ]
    },
    {
      "cell_type": "code",
      "execution_count": null,
      "metadata": {
        "colab": {
          "background_save": true
        },
        "id": "_rXr7vKOhzfg"
      },
      "outputs": [],
      "source": [
        "print(X_train.shape, X_test.shape)"
      ]
    },
    {
      "cell_type": "code",
      "execution_count": null,
      "metadata": {
        "colab": {
          "background_save": true
        },
        "id": "ZFeOvcZUVMjM"
      },
      "outputs": [],
      "source": [
        "Model = Sequential()\n",
        "\n",
        "Model.add(Dense(60, input_shape = (X_train.shape[1],), activation = 'relu', kernel_initializer = 'he_normal'))\n",
        "Model.add(Dropout(0.3))\n",
        "Model.add(BatchNormalization())\n",
        "Model.add(Dense(80, activation = 'relu', kernel_initializer = 'he_normal'))\n",
        "Model.add(Dropout(0.3))\n",
        "Model.add(BatchNormalization())\n",
        "Model.add(Dense(120, activation = 'relu', kernel_initializer = 'he_normal'))\n",
        "Model.add(Dropout(0.3))\n",
        "Model.add(BatchNormalization())\n",
        "Model.add(Dense(70, activation = 'relu', kernel_initializer = 'he_normal'))\n",
        "Model.add(Dropout(0.3))\n",
        "Model.add(BatchNormalization())\n",
        "Model.add(Dense(10, activation = 'softmax', kernel_initializer = 'he_normal'))\n",
        "\n",
        "Model.summary()"
      ]
    },
    {
      "cell_type": "code",
      "execution_count": null,
      "metadata": {
        "colab": {
          "background_save": true
        },
        "id": "Ed-omnFZwANZ"
      },
      "outputs": [],
      "source": [
        "Model.compile(optimizer = optimizers.Adam(learning_rate = 0.001),\n",
        "              loss='sparse_categorical_crossentropy',     # Multiclass classification\n",
        "              metrics=['accuracy'])"
      ]
    },
    {
      "cell_type": "code",
      "execution_count": null,
      "metadata": {
        "colab": {
          "background_save": true
        },
        "id": "wTWN8eyEUsT7"
      },
      "outputs": [],
      "source": [
        "earlyStopping = callbacks.EarlyStopping(monitor='loss', patience=5)\n",
        "\n",
        "chkpnt_path = 'Model/Model_checkpoint'\n",
        "modelCheckpoint = callbacks.ModelCheckpoint(\n",
        "    filepath = chkpnt_path,\n",
        "    save_weights_only = True,\n",
        "    monitor = 'val_accuracy',\n",
        "    mode = 'max',\n",
        "    save_best_only = True\n",
        ")"
      ]
    },
    {
      "cell_type": "code",
      "execution_count": null,
      "metadata": {
        "id": "Dcv4JjqxwBj3"
      },
      "outputs": [],
      "source": [
        "history = Model.fit(X_train, y_train, batch_size = 50, epochs = 100, verbose = 1, validation_split = 0.2, callbacks = [earlyStopping, modelCheckpoint])"
      ]
    },
    {
      "cell_type": "code",
      "execution_count": null,
      "metadata": {
        "colab": {
          "background_save": true
        },
        "id": "8UESLvBSnt9A",
        "outputId": "b9224e54-86b2-4db3-fa80-642ec94890b6"
      },
      "outputs": [
        {
          "name": "stdout",
          "output_type": "stream",
          "text": [
            "9/9 [==============================] - 0s 3ms/step - loss: 1.4641 - accuracy: 0.3924\n"
          ]
        },
        {
          "data": {
            "text/plain": [
              "[1.4640741348266602, 0.3923611044883728]"
            ]
          },
          "execution_count": null,
          "metadata": {},
          "output_type": "execute_result"
        }
      ],
      "source": [
        "Model.evaluate(X_test, y_test)"
      ]
    },
    {
      "cell_type": "code",
      "execution_count": null,
      "metadata": {
        "colab": {
          "background_save": true
        },
        "id": "dpj20HoDxMSJ"
      },
      "outputs": [],
      "source": [
        "def plot_history(history):\n",
        "  plt.plot(history.history['accuracy'])\n",
        "  plt.plot(history.history['val_accuracy'])\n",
        "  plt.title('Model accuracy')\n",
        "  plt.ylabel('Accuracy')\n",
        "  plt.xlabel('Epoch')\n",
        "  plt.legend(['train', 'val'], loc='upper left')\n",
        "  plt.show()\n",
        "  \n",
        "  plt.plot(history.history['loss'])\n",
        "  plt.plot(history.history['val_loss'])\n",
        "  plt.title('model loss')\n",
        "  plt.ylabel('Loss')\n",
        "  plt.xlabel('Epoch')\n",
        "  plt.legend(['train', 'val'], loc='upper left')\n",
        "  plt.show()"
      ]
    },
    {
      "cell_type": "code",
      "execution_count": null,
      "metadata": {
        "colab": {
          "background_save": true
        },
        "id": "mLDqCsZ2xwrI",
        "outputId": "35479e91-45a8-44e7-df7a-0421143986e7"
      },
      "outputs": [
        {
          "data": {
            "image/png": "[encoded data removed]",
            "text/plain": [
              "<Figure size 432x288 with 1 Axes>"
            ]
          },
          "metadata": {},
          "output_type": "display_data"
        },
        {
          "data": {
            "image/png": "[encoded data removed]",
            "text/plain": [
              "<Figure size 432x288 with 1 Axes>"
            ]
          },
          "metadata": {},
          "output_type": "display_data"
        }
      ],
      "source": [
        "plot_history(history)"
      ]
    },
    {
      "cell_type": "code",
      "execution_count": null,
      "metadata": {
        "colab": {
          "background_save": true
        },
        "id": "eYwXpm0Ix2aJ",
        "outputId": "2286f5f7-2119-4716-90ba-8fc58cb20284"
      },
      "outputs": [
        {
          "name": "stdout",
          "output_type": "stream",
          "text": [
            "Confusion Matrix: \n",
            "\n"
          ]
        },
        {
          "data": {
            "image/png": "[encoded data removed]",
            "text/plain": [
              "<Figure size 432x288 with 2 Axes>"
            ]
          },
          "metadata": {},
          "output_type": "display_data"
        }
      ],
      "source": [
        "y_pred = Model.predict(X_test)\n",
        "y_pred = np.argmax(y_pred, axis=1)\n",
        "\n",
        "print('Confusion Matrix: \\n')\n",
        "cm = confusion_matrix(y_test, y_pred)\n",
        "sns.heatmap(cm, annot=True, cmap='Blues', fmt='g');"
      ]
    },
    {
      "cell_type": "code",
      "execution_count": null,
      "metadata": {
        "colab": {
          "background_save": true
        },
        "id": "RFV8WIeyzG4F",
        "outputId": "c8e43fe7-7eee-4ae9-d588-769bf2ffad03"
      },
      "outputs": [
        {
          "name": "stdout",
          "output_type": "stream",
          "text": [
            "              precision    recall  f1-score   support\n",
            "\n",
            "           0       0.74      0.53      0.62        32\n",
            "           1       0.82      0.19      0.31        48\n",
            "           2       0.38      0.57      0.46        40\n",
            "           3       0.53      0.26      0.35        38\n",
            "           4       0.25      0.14      0.18        37\n",
            "           5       0.26      0.50      0.35        18\n",
            "           6       0.21      0.35      0.26        31\n",
            "           7       0.43      0.66      0.52        44\n",
            "\n",
            "    accuracy                           0.39       288\n",
            "   macro avg       0.45      0.40      0.38       288\n",
            "weighted avg       0.48      0.39      0.38       288\n",
            "\n"
          ]
        }
      ],
      "source": [
        "print(classification_report(y_test, y_pred))"
      ]
    },
    {
      "cell_type": "code",
      "execution_count": null,
      "metadata": {
        "colab": {
          "background_save": true
        },
        "id": "vmcHFA6HRywk"
      },
      "outputs": [],
      "source": [
        ""
      ]
    }
  ],
  "metadata": {
    "accelerator": "GPU",
    "colab": {
      "collapsed_sections": [],
      "name": "Predict_Age,_Gender,_Emotion_from_Audio.ipynb",
      "provenance": []
    },
    "kernelspec": {
      "display_name": "Python 3",
      "name": "python3"
    },
    "language_info": {
      "name": "python"
    }
  },
  "nbformat": 4,
  "nbformat_minor": 0
}